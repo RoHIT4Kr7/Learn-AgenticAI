{
  "nbformat": 4,
  "nbformat_minor": 0,
  "metadata": {
    "colab": {
      "provenance": [],
      "authorship_tag": "ABX9TyP+rZ5IIGu4aidBMfRrnWd7",
      "include_colab_link": true
    },
    "kernelspec": {
      "name": "python3",
      "display_name": "Python 3"
    },
    "language_info": {
      "name": "python"
    }
  },
  "cells": [
    {
      "cell_type": "markdown",
      "metadata": {
        "id": "view-in-github",
        "colab_type": "text"
      },
      "source": [
        "<a href=\"https://colab.research.google.com/github/RoHIT4Kr7/Learn-AgenticAI/blob/main/act5graph.ipynb\" target=\"_parent\"><img src=\"https://colab.research.google.com/assets/colab-badge.svg\" alt=\"Open In Colab\"/></a>"
      ]
    },
    {
      "cell_type": "code",
      "execution_count": 6,
      "metadata": {
        "colab": {
          "base_uri": "https://localhost:8080/"
        },
        "collapsed": true,
        "id": "qx4KW3fOU89k",
        "outputId": "bc3ec2c8-80da-4cd7-a0b1-d391d4ceebff"
      },
      "outputs": [
        {
          "output_type": "stream",
          "name": "stdout",
          "text": [
            "Requirement already satisfied: langgraph in /usr/local/lib/python3.11/dist-packages (0.5.3)\n",
            "Requirement already satisfied: langchain-core>=0.1 in /usr/local/lib/python3.11/dist-packages (from langgraph) (0.3.68)\n",
            "Requirement already satisfied: langgraph-checkpoint<3.0.0,>=2.1.0 in /usr/local/lib/python3.11/dist-packages (from langgraph) (2.1.1)\n",
            "Requirement already satisfied: langgraph-prebuilt<0.6.0,>=0.5.0 in /usr/local/lib/python3.11/dist-packages (from langgraph) (0.5.2)\n",
            "Requirement already satisfied: langgraph-sdk<0.2.0,>=0.1.42 in /usr/local/lib/python3.11/dist-packages (from langgraph) (0.1.73)\n",
            "Requirement already satisfied: pydantic>=2.7.4 in /usr/local/lib/python3.11/dist-packages (from langgraph) (2.11.7)\n",
            "Requirement already satisfied: xxhash>=3.5.0 in /usr/local/lib/python3.11/dist-packages (from langgraph) (3.5.0)\n",
            "Requirement already satisfied: langsmith>=0.3.45 in /usr/local/lib/python3.11/dist-packages (from langchain-core>=0.1->langgraph) (0.4.5)\n",
            "Requirement already satisfied: tenacity!=8.4.0,<10.0.0,>=8.1.0 in /usr/local/lib/python3.11/dist-packages (from langchain-core>=0.1->langgraph) (8.5.0)\n",
            "Requirement already satisfied: jsonpatch<2.0,>=1.33 in /usr/local/lib/python3.11/dist-packages (from langchain-core>=0.1->langgraph) (1.33)\n",
            "Requirement already satisfied: PyYAML>=5.3 in /usr/local/lib/python3.11/dist-packages (from langchain-core>=0.1->langgraph) (6.0.2)\n",
            "Requirement already satisfied: packaging<25,>=23.2 in /usr/local/lib/python3.11/dist-packages (from langchain-core>=0.1->langgraph) (24.2)\n",
            "Requirement already satisfied: typing-extensions>=4.7 in /usr/local/lib/python3.11/dist-packages (from langchain-core>=0.1->langgraph) (4.14.1)\n",
            "Requirement already satisfied: ormsgpack>=1.10.0 in /usr/local/lib/python3.11/dist-packages (from langgraph-checkpoint<3.0.0,>=2.1.0->langgraph) (1.10.0)\n",
            "Requirement already satisfied: httpx>=0.25.2 in /usr/local/lib/python3.11/dist-packages (from langgraph-sdk<0.2.0,>=0.1.42->langgraph) (0.28.1)\n",
            "Requirement already satisfied: orjson>=3.10.1 in /usr/local/lib/python3.11/dist-packages (from langgraph-sdk<0.2.0,>=0.1.42->langgraph) (3.10.18)\n",
            "Requirement already satisfied: annotated-types>=0.6.0 in /usr/local/lib/python3.11/dist-packages (from pydantic>=2.7.4->langgraph) (0.7.0)\n",
            "Requirement already satisfied: pydantic-core==2.33.2 in /usr/local/lib/python3.11/dist-packages (from pydantic>=2.7.4->langgraph) (2.33.2)\n",
            "Requirement already satisfied: typing-inspection>=0.4.0 in /usr/local/lib/python3.11/dist-packages (from pydantic>=2.7.4->langgraph) (0.4.1)\n",
            "Requirement already satisfied: anyio in /usr/local/lib/python3.11/dist-packages (from httpx>=0.25.2->langgraph-sdk<0.2.0,>=0.1.42->langgraph) (4.9.0)\n",
            "Requirement already satisfied: certifi in /usr/local/lib/python3.11/dist-packages (from httpx>=0.25.2->langgraph-sdk<0.2.0,>=0.1.42->langgraph) (2025.7.14)\n",
            "Requirement already satisfied: httpcore==1.* in /usr/local/lib/python3.11/dist-packages (from httpx>=0.25.2->langgraph-sdk<0.2.0,>=0.1.42->langgraph) (1.0.9)\n",
            "Requirement already satisfied: idna in /usr/local/lib/python3.11/dist-packages (from httpx>=0.25.2->langgraph-sdk<0.2.0,>=0.1.42->langgraph) (3.10)\n",
            "Requirement already satisfied: h11>=0.16 in /usr/local/lib/python3.11/dist-packages (from httpcore==1.*->httpx>=0.25.2->langgraph-sdk<0.2.0,>=0.1.42->langgraph) (0.16.0)\n",
            "Requirement already satisfied: jsonpointer>=1.9 in /usr/local/lib/python3.11/dist-packages (from jsonpatch<2.0,>=1.33->langchain-core>=0.1->langgraph) (3.0.0)\n",
            "Requirement already satisfied: requests<3,>=2 in /usr/local/lib/python3.11/dist-packages (from langsmith>=0.3.45->langchain-core>=0.1->langgraph) (2.32.3)\n",
            "Requirement already satisfied: requests-toolbelt<2.0.0,>=1.0.0 in /usr/local/lib/python3.11/dist-packages (from langsmith>=0.3.45->langchain-core>=0.1->langgraph) (1.0.0)\n",
            "Requirement already satisfied: zstandard<0.24.0,>=0.23.0 in /usr/local/lib/python3.11/dist-packages (from langsmith>=0.3.45->langchain-core>=0.1->langgraph) (0.23.0)\n",
            "Requirement already satisfied: charset-normalizer<4,>=2 in /usr/local/lib/python3.11/dist-packages (from requests<3,>=2->langsmith>=0.3.45->langchain-core>=0.1->langgraph) (3.4.2)\n",
            "Requirement already satisfied: urllib3<3,>=1.21.1 in /usr/local/lib/python3.11/dist-packages (from requests<3,>=2->langsmith>=0.3.45->langchain-core>=0.1->langgraph) (2.4.0)\n",
            "Requirement already satisfied: sniffio>=1.1 in /usr/local/lib/python3.11/dist-packages (from anyio->httpx>=0.25.2->langgraph-sdk<0.2.0,>=0.1.42->langgraph) (1.3.1)\n"
          ]
        }
      ],
      "source": [
        "pip install langgraph"
      ]
    },
    {
      "cell_type": "code",
      "source": [
        "from langgraph.graph import StateGraph, START, END\n",
        "import random\n",
        "from typing import TypedDict, List, Dict"
      ],
      "metadata": {
        "id": "zXMxUcjvVNYm"
      },
      "execution_count": 7,
      "outputs": []
    },
    {
      "cell_type": "code",
      "source": [
        "class AgentState(TypedDict):\n",
        "  player_name: str\n",
        "  guesses: List[int]\n",
        "  attempts: int\n",
        "  lower_bound: int\n",
        "  upper_bound: int\n",
        "  initial_number:int\n",
        "  guess_number:int\n",
        "  counter: int\n",
        "  target: int\n",
        "  current_lower:int\n",
        "  current_upper: int\n",
        "  attempts: int\n",
        "  system_guess:int\n"
      ],
      "metadata": {
        "id": "lS-28dA8WWIg"
      },
      "execution_count": 11,
      "outputs": []
    },
    {
      "cell_type": "code",
      "source": [
        "def generate_random(state: AgentState) -> AgentState:\n",
        "    \"\"\"Setup node to generate target number\"\"\"\n",
        "    state[\"target\"] = random.randint(state[\"lower_bound\"], state[\"upper_bound\"])\n",
        "    state[\"attempts\"] = 0\n",
        "    state[\"current_lower\"] = state[\"lower_bound\"]\n",
        "    state[\"current_upper\"] = state[\"upper_bound\"]\n",
        "    print(f\"Target number: {state['target']} (for demonstration)\")\n",
        "    return state\n",
        "\n",
        "def guess(state: AgentState) -> AgentState:\n",
        "    \"\"\"Guess node to make a single guess\"\"\"\n",
        "    state[\"attempts\"] += 1\n",
        "    state[\"system_guess\"] = random.randint(state[\"current_lower\"], state[\"current_upper\"])\n",
        "    print(f\"Attempt {state['attempts']}: Guessed {state['system_guess']} (range: {state['current_lower']}-{state['current_upper']})\")\n",
        "    return state\n",
        "\n",
        "\n",
        "def hint_node(state: AgentState) -> AgentState:\n",
        "    \"\"\"Hint node to update bounds based on guess\"\"\"\n",
        "    if state[\"target\"] > state[\"system_guess\"]:\n",
        "        print(f\"Hint: Target is higher than {state['system_guess']}\")\n",
        "        state[\"current_lower\"] = state[\"system_guess\"] + 1\n",
        "    elif state[\"target\"] < state[\"system_guess\"]:\n",
        "        print(f\"Hint: Target is lower than {state['system_guess']}\")\n",
        "        state[\"current_upper\"] = state[\"system_guess\"] - 1\n",
        "    return state\n",
        "\n",
        "\n",
        "def should_continue(state: AgentState) -> str:\n",
        "    \"\"\"Routing function for conditional edges\"\"\"\n",
        "    if state[\"system_guess\"] == state[\"target\"]:\n",
        "        print(f\"Guessed correctly! Number was {state['target']}. Attempts: {state['attempts']}\")\n",
        "        return \"end\"\n",
        "    elif state[\"attempts\"] >= 7:\n",
        "        print(f\"Failed to guess the number {state['target']} in 7 attempts.\")\n",
        "        return \"end\"\n",
        "    else:\n",
        "        return \"continue\"\n",
        "\n"
      ],
      "metadata": {
        "id": "YVI3d9EMWtB0"
      },
      "execution_count": 12,
      "outputs": []
    },
    {
      "cell_type": "code",
      "source": [
        "# Build the graph\n",
        "graph = StateGraph(AgentState)\n",
        "\n",
        "# Add nodes\n",
        "graph.add_node(\"setup\", generate_random)\n",
        "graph.add_node(\"guess\", guess)\n",
        "graph.add_node(\"hint_node\", hint_node)\n",
        "\n",
        "# Add edges\n",
        "graph.add_edge(START, \"setup\")\n",
        "graph.add_edge(\"setup\", \"guess\")\n",
        "\n",
        "# Add conditional edges\n",
        "graph.add_conditional_edges(\n",
        "    \"guess\",\n",
        "    should_continue,\n",
        "    {\n",
        "        \"continue\": \"hint_node\",\n",
        "        \"end\": END\n",
        "    }\n",
        ")\n",
        "\n",
        "graph.add_edge(\"hint_node\", \"guess\")\n",
        "\n",
        "# Compile the graph\n",
        "app = graph.compile()"
      ],
      "metadata": {
        "id": "nrhYLzAaawdv"
      },
      "execution_count": 15,
      "outputs": []
    },
    {
      "cell_type": "code",
      "source": [
        "from IPython.display import Image, display\n",
        "display(Image(app.get_graph().draw_mermaid_png()))"
      ],
      "metadata": {
        "colab": {
          "base_uri": "https://localhost:8080/",
          "height": 389
        },
        "id": "xwXmkUw8Sk58",
        "outputId": "5f27381c-f96d-45ed-f4d8-c7f9dc07efe4"
      },
      "execution_count": 16,
      "outputs": [
        {
          "output_type": "display_data",
          "data": {
            "image/png": "[encoded data removed]",
            "text/plain": [
              "<IPython.core.display.Image object>"
            ]
          },
          "metadata": {}
        }
      ]
    }
  ]
}